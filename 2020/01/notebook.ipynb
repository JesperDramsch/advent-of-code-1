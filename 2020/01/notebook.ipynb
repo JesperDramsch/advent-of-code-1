{
 "cells": [
  {
   "cell_type": "markdown",
   "metadata": {},
   "source": [
    "# [Advent of Code 2020 - Day 1 - Report Repair](https://adventofcode.com/2020/day/1)\n",
    "\n",
    "After saving Christmas **five years in a row**, you've decided to take a vacation at a nice resort\n",
    "on a tropical island. Surely, Christmas will go on without you.\n",
    "\n",
    "The tropical island has its own currency and is entirely cash-only. The gold coins used there have\n",
    "a little picture of a starfish; the locals just call them **stars**. None of the currency exchanges\n",
    "seem to have heard of them, but somehow, you'll need to find fifty of these coins by the time you\n",
    "arrive so you can pay the deposit on your room.\n",
    "\n",
    "To save your vacation, you need to get all **fifty stars** by December 25th.\n",
    "\n",
    "Collect stars by solving puzzles. Two puzzles will be made available on each day in the Advent\n",
    "calendar; the second puzzle is unlocked when you complete the first. Each puzzle grants one star.\n",
    "Good luck!\n",
    "\n",
    "## Part 1\n",
    "\n",
    "Before you leave, the Elves in accounting just need you to fix your **expense report** (your puzzle\n",
    "input); apparently, something isn't quite adding up.\n",
    "\n",
    "Specifically, they need you to **find the two entries that sum to `2020`** and then multiply those\n",
    "two numbers together.\n",
    "\n",
    "For example, suppose your expense report contained the following:\n",
    "\n",
    "```python\n",
    "1721\n",
    "979\n",
    "366\n",
    "299\n",
    "675\n",
    "1456\n",
    "```\n",
    "\n",
    "In this list, the two entries that sum to `2020` are `1721` and `299`. Multiplying them together\n",
    "produces `1721 * 299 = 514579`, so the correct answer is `514579`.\n",
    "\n",
    "Of course, your expense report is much larger. **Find the two entries that sum to `2020`; what do\n",
    "you get if you multiply them together?**\n",
    "\n",
    "## Part Two\n",
    "\n",
    "The Elves in accounting are thankful for your help; one of them even offers you a starfish coin\n",
    "they had left over from a past vacation. They offer you a second one if you can find **three**\n",
    "numbers in your expense report that meet the same criteria.\n",
    "\n",
    "Using the above example again, the three entries that sum to `2020` are `979`, `366`, and `675`.\n",
    "Multiplying them together produces the answer, `241861950`.\n",
    "\n",
    "In your expense report, **what is the product of the three entries that sum to `2020`**?"
   ]
  },
  {
   "cell_type": "markdown",
   "metadata": {},
   "source": [
    "---"
   ]
  },
  {
   "cell_type": "code",
   "execution_count": 1,
   "metadata": {},
   "outputs": [
    {
     "data": {
      "application/javascript": [
       "\n",
       "            setTimeout(function() {\n",
       "                var nbb_cell_id = 1;\n",
       "                var nbb_unformatted_code = \"# The black autoformatter only works in Jupyter Notebook,\\n# use lab_black if using Jupyter Lab.\\n%load_ext nb_black\";\n",
       "                var nbb_formatted_code = \"# The black autoformatter only works in Jupyter Notebook,\\n# use lab_black if using Jupyter Lab.\\n%load_ext nb_black\";\n",
       "                var nbb_cells = Jupyter.notebook.get_cells();\n",
       "                for (var i = 0; i < nbb_cells.length; ++i) {\n",
       "                    if (nbb_cells[i].input_prompt_number == nbb_cell_id) {\n",
       "                        if (nbb_cells[i].get_text() == nbb_unformatted_code) {\n",
       "                             nbb_cells[i].set_text(nbb_formatted_code);\n",
       "                        }\n",
       "                        break;\n",
       "                    }\n",
       "                }\n",
       "            }, 500);\n",
       "            "
      ],
      "text/plain": [
       "<IPython.core.display.Javascript object>"
      ]
     },
     "metadata": {},
     "output_type": "display_data"
    }
   ],
   "source": [
    "# The black autoformatter only works in Jupyter Notebook,\n",
    "# use lab_black if using Jupyter Lab.\n",
    "%load_ext nb_black"
   ]
  },
  {
   "cell_type": "markdown",
   "metadata": {},
   "source": [
    "## Load the data"
   ]
  },
  {
   "cell_type": "markdown",
   "metadata": {},
   "source": [
    "First, you need to save the data locally:\n",
    "1. Go to https://adventofcode.com/2020/day/1/ and sign up with Google, GitHub, Twitter, Reddit, etc.\n",
    "2. Read everything, then when ready go to https://adventofcode.com/2020/day/1/input to get your data. Note that puzzle inputs differ by user and these numbers are generated just for you!\n",
    "3. Save this to a local file called `input.txt`. The easiest way to do this is to press `ctrl + s` (Windows) or `cmd + s` (macOS) whilst you have this browser tab open with your list of numbers displayed."
   ]
  },
  {
   "cell_type": "code",
   "execution_count": null,
   "metadata": {},
   "outputs": [],
   "source": [
    "# Run this command to find out where you should save the file.\n",
    "# Below you will see printed out the \"Path (to your) Working Directory\",\n",
    "# a.k.a. the pwd command.\n",
    "%pwd"
   ]
  },
  {
   "cell_type": "code",
   "execution_count": 2,
   "metadata": {},
   "outputs": [
    {
     "data": {
      "application/javascript": [
       "\n",
       "            setTimeout(function() {\n",
       "                var nbb_cell_id = 2;\n",
       "                var nbb_unformatted_code = \"# We're using pandas, so let's load that. These exercises can be done without, but I like\\n# pandas, and it will feature heavily in this repo where I feel it makes the code cleaner.\\nimport pandas as pd\";\n",
       "                var nbb_formatted_code = \"# We're using pandas, so let's load that. These exercises can be done without, but I like\\n# pandas, and it will feature heavily in this repo where I feel it makes the code cleaner.\\nimport pandas as pd\";\n",
       "                var nbb_cells = Jupyter.notebook.get_cells();\n",
       "                for (var i = 0; i < nbb_cells.length; ++i) {\n",
       "                    if (nbb_cells[i].input_prompt_number == nbb_cell_id) {\n",
       "                        if (nbb_cells[i].get_text() == nbb_unformatted_code) {\n",
       "                             nbb_cells[i].set_text(nbb_formatted_code);\n",
       "                        }\n",
       "                        break;\n",
       "                    }\n",
       "                }\n",
       "            }, 500);\n",
       "            "
      ],
      "text/plain": [
       "<IPython.core.display.Javascript object>"
      ]
     },
     "metadata": {},
     "output_type": "display_data"
    }
   ],
   "source": [
    "# We're using pandas, so let's load that. These exercises can be done without, but I like\n",
    "# pandas, and it will feature heavily in this repo where I feel it makes the code cleaner.\n",
    "import pandas as pd"
   ]
  },
  {
   "cell_type": "code",
   "execution_count": 3,
   "metadata": {},
   "outputs": [
    {
     "data": {
      "text/html": [
       "<div>\n",
       "<style scoped>\n",
       "    .dataframe tbody tr th:only-of-type {\n",
       "        vertical-align: middle;\n",
       "    }\n",
       "\n",
       "    .dataframe tbody tr th {\n",
       "        vertical-align: top;\n",
       "    }\n",
       "\n",
       "    .dataframe thead th {\n",
       "        text-align: right;\n",
       "    }\n",
       "</style>\n",
       "<table border=\"1\" class=\"dataframe\">\n",
       "  <thead>\n",
       "    <tr style=\"text-align: right;\">\n",
       "      <th></th>\n",
       "      <th>1632</th>\n",
       "    </tr>\n",
       "  </thead>\n",
       "  <tbody>\n",
       "    <tr>\n",
       "      <th>0</th>\n",
       "      <td>1438</td>\n",
       "    </tr>\n",
       "    <tr>\n",
       "      <th>1</th>\n",
       "      <td>1811</td>\n",
       "    </tr>\n",
       "    <tr>\n",
       "      <th>2</th>\n",
       "      <td>1943</td>\n",
       "    </tr>\n",
       "  </tbody>\n",
       "</table>\n",
       "</div>"
      ],
      "text/plain": [
       "   1632\n",
       "0  1438\n",
       "1  1811\n",
       "2  1943"
      ]
     },
     "execution_count": 3,
     "metadata": {},
     "output_type": "execute_result"
    },
    {
     "data": {
      "application/javascript": [
       "\n",
       "            setTimeout(function() {\n",
       "                var nbb_cell_id = 3;\n",
       "                var nbb_unformatted_code = \"# Note how this loads the top number as a header, that's no good!\\npd.read_csv(\\\"input.txt\\\").head(\\n    3\\n)  # add .head(3) to just show the top 3 rows in the dataframe\";\n",
       "                var nbb_formatted_code = \"# Note how this loads the top number as a header, that's no good!\\npd.read_csv(\\\"input.txt\\\").head(\\n    3\\n)  # add .head(3) to just show the top 3 rows in the dataframe\";\n",
       "                var nbb_cells = Jupyter.notebook.get_cells();\n",
       "                for (var i = 0; i < nbb_cells.length; ++i) {\n",
       "                    if (nbb_cells[i].input_prompt_number == nbb_cell_id) {\n",
       "                        if (nbb_cells[i].get_text() == nbb_unformatted_code) {\n",
       "                             nbb_cells[i].set_text(nbb_formatted_code);\n",
       "                        }\n",
       "                        break;\n",
       "                    }\n",
       "                }\n",
       "            }, 500);\n",
       "            "
      ],
      "text/plain": [
       "<IPython.core.display.Javascript object>"
      ]
     },
     "metadata": {},
     "output_type": "display_data"
    }
   ],
   "source": [
    "# Note how this loads the top number as a header, that's no good!\n",
    "pd.read_csv(\"input.txt\").head(\n",
    "    3\n",
    ")  # add .head(3) to just show the top 3 rows in the dataframe"
   ]
  },
  {
   "cell_type": "code",
   "execution_count": 4,
   "metadata": {},
   "outputs": [
    {
     "data": {
      "text/html": [
       "<div>\n",
       "<style scoped>\n",
       "    .dataframe tbody tr th:only-of-type {\n",
       "        vertical-align: middle;\n",
       "    }\n",
       "\n",
       "    .dataframe tbody tr th {\n",
       "        vertical-align: top;\n",
       "    }\n",
       "\n",
       "    .dataframe thead th {\n",
       "        text-align: right;\n",
       "    }\n",
       "</style>\n",
       "<table border=\"1\" class=\"dataframe\">\n",
       "  <thead>\n",
       "    <tr style=\"text-align: right;\">\n",
       "      <th></th>\n",
       "      <th>0</th>\n",
       "    </tr>\n",
       "  </thead>\n",
       "  <tbody>\n",
       "    <tr>\n",
       "      <th>0</th>\n",
       "      <td>1632</td>\n",
       "    </tr>\n",
       "    <tr>\n",
       "      <th>1</th>\n",
       "      <td>1438</td>\n",
       "    </tr>\n",
       "    <tr>\n",
       "      <th>2</th>\n",
       "      <td>1811</td>\n",
       "    </tr>\n",
       "  </tbody>\n",
       "</table>\n",
       "</div>"
      ],
      "text/plain": [
       "      0\n",
       "0  1632\n",
       "1  1438\n",
       "2  1811"
      ]
     },
     "execution_count": 4,
     "metadata": {},
     "output_type": "execute_result"
    },
    {
     "data": {
      "application/javascript": [
       "\n",
       "            setTimeout(function() {\n",
       "                var nbb_cell_id = 4;\n",
       "                var nbb_unformatted_code = \"# Let's fix that by adding header=None\\npd.read_csv(\\\"input.txt\\\", header=None).head(3)\";\n",
       "                var nbb_formatted_code = \"# Let's fix that by adding header=None\\npd.read_csv(\\\"input.txt\\\", header=None).head(3)\";\n",
       "                var nbb_cells = Jupyter.notebook.get_cells();\n",
       "                for (var i = 0; i < nbb_cells.length; ++i) {\n",
       "                    if (nbb_cells[i].input_prompt_number == nbb_cell_id) {\n",
       "                        if (nbb_cells[i].get_text() == nbb_unformatted_code) {\n",
       "                             nbb_cells[i].set_text(nbb_formatted_code);\n",
       "                        }\n",
       "                        break;\n",
       "                    }\n",
       "                }\n",
       "            }, 500);\n",
       "            "
      ],
      "text/plain": [
       "<IPython.core.display.Javascript object>"
      ]
     },
     "metadata": {},
     "output_type": "display_data"
    }
   ],
   "source": [
    "# Let's fix that by adding header=None\n",
    "pd.read_csv(\"input.txt\", header=None).head(3)"
   ]
  },
  {
   "cell_type": "code",
   "execution_count": 5,
   "metadata": {},
   "outputs": [
    {
     "data": {
      "text/plain": [
       "0    1632\n",
       "1    1438\n",
       "2    1811\n",
       "Name: 0, dtype: int64"
      ]
     },
     "execution_count": 5,
     "metadata": {},
     "output_type": "execute_result"
    },
    {
     "data": {
      "application/javascript": [
       "\n",
       "            setTimeout(function() {\n",
       "                var nbb_cell_id = 5;\n",
       "                var nbb_unformatted_code = \"# We want this as a pandas Series...\\npd.read_csv(\\\"input.txt\\\", header=None)[0].head(3)\";\n",
       "                var nbb_formatted_code = \"# We want this as a pandas Series...\\npd.read_csv(\\\"input.txt\\\", header=None)[0].head(3)\";\n",
       "                var nbb_cells = Jupyter.notebook.get_cells();\n",
       "                for (var i = 0; i < nbb_cells.length; ++i) {\n",
       "                    if (nbb_cells[i].input_prompt_number == nbb_cell_id) {\n",
       "                        if (nbb_cells[i].get_text() == nbb_unformatted_code) {\n",
       "                             nbb_cells[i].set_text(nbb_formatted_code);\n",
       "                        }\n",
       "                        break;\n",
       "                    }\n",
       "                }\n",
       "            }, 500);\n",
       "            "
      ],
      "text/plain": [
       "<IPython.core.display.Javascript object>"
      ]
     },
     "metadata": {},
     "output_type": "display_data"
    }
   ],
   "source": [
    "# We want this as a pandas Series...\n",
    "pd.read_csv(\"input.txt\", header=None)[0].head(3)"
   ]
  },
  {
   "cell_type": "code",
   "execution_count": 6,
   "metadata": {},
   "outputs": [
    {
     "data": {
      "text/plain": [
       "[1632,\n",
       " 1438,\n",
       " 1811,\n",
       " 1943,\n",
       " 1883,\n",
       " 1698,\n",
       " 1976,\n",
       " 1972,\n",
       " 1794,\n",
       " 1726,\n",
       " 1850,\n",
       " 1789,\n",
       " 1524,\n",
       " 1701,\n",
       " 1454,\n",
       " 1594,\n",
       " 1655,\n",
       " 1018,\n",
       " 1828,\n",
       " 1867,\n",
       " 1959,\n",
       " 1541,\n",
       " 1596,\n",
       " 1998,\n",
       " 1916,\n",
       " 1894,\n",
       " 1727,\n",
       " 1812,\n",
       " 1800,\n",
       " 1897,\n",
       " 1534,\n",
       " 1712,\n",
       " 1825,\n",
       " 1629,\n",
       " 1827,\n",
       " 81,\n",
       " 1855,\n",
       " 1621,\n",
       " 1694,\n",
       " 1663,\n",
       " 1793,\n",
       " 1685,\n",
       " 1616,\n",
       " 1899,\n",
       " 1688,\n",
       " 1652,\n",
       " 1719,\n",
       " 1589,\n",
       " 1649,\n",
       " 1742,\n",
       " 1905,\n",
       " 922,\n",
       " 1695,\n",
       " 1747,\n",
       " 1989,\n",
       " 1968,\n",
       " 1678,\n",
       " 1709,\n",
       " 1938,\n",
       " 1920,\n",
       " 1429,\n",
       " 1556,\n",
       " 2005,\n",
       " 1728,\n",
       " 1484,\n",
       " 1746,\n",
       " 1702,\n",
       " 1456,\n",
       " 1917,\n",
       " 1670,\n",
       " 1433,\n",
       " 1538,\n",
       " 1806,\n",
       " 1667,\n",
       " 1505,\n",
       " 963,\n",
       " 1478,\n",
       " 2003,\n",
       " 1955,\n",
       " 1689,\n",
       " 1490,\n",
       " 1523,\n",
       " 1615,\n",
       " 1784,\n",
       " 1624,\n",
       " 583,\n",
       " 1465,\n",
       " 1443,\n",
       " 1489,\n",
       " 1873,\n",
       " 1485,\n",
       " 1773,\n",
       " 1704,\n",
       " 352,\n",
       " 505,\n",
       " 1705,\n",
       " 1844,\n",
       " 1599,\n",
       " 1778,\n",
       " 1846,\n",
       " 1533,\n",
       " 1535,\n",
       " 1965,\n",
       " 1987,\n",
       " 828,\n",
       " 1755,\n",
       " 1823,\n",
       " 1639,\n",
       " 1981,\n",
       " 1763,\n",
       " 1758,\n",
       " 1819,\n",
       " 1569,\n",
       " 1580,\n",
       " 358,\n",
       " 1786,\n",
       " 1964,\n",
       " 1604,\n",
       " 1805,\n",
       " 1822,\n",
       " 1941,\n",
       " 1993,\n",
       " 1939,\n",
       " 1975,\n",
       " 1966,\n",
       " 1852,\n",
       " 1310,\n",
       " 1687,\n",
       " 1718,\n",
       " 641,\n",
       " 1715,\n",
       " 1995,\n",
       " 1603,\n",
       " 1444,\n",
       " 1641,\n",
       " 1961,\n",
       " 1536,\n",
       " 1771,\n",
       " 1267,\n",
       " 1749,\n",
       " 1944,\n",
       " 1519,\n",
       " 1445,\n",
       " 1818,\n",
       " 1558,\n",
       " 1922,\n",
       " 1452,\n",
       " 1901,\n",
       " 1915,\n",
       " 1957,\n",
       " 1840,\n",
       " 1785,\n",
       " 1946,\n",
       " 1683,\n",
       " 1918,\n",
       " 1847,\n",
       " 1690,\n",
       " 1716,\n",
       " 1627,\n",
       " 1571,\n",
       " 1985,\n",
       " 1455,\n",
       " 435,\n",
       " 1856,\n",
       " 1527,\n",
       " 1660,\n",
       " 1555,\n",
       " 1557,\n",
       " 1591,\n",
       " 1906,\n",
       " 1646,\n",
       " 1656,\n",
       " 1620,\n",
       " 1618,\n",
       " 1598,\n",
       " 1606,\n",
       " 1808,\n",
       " 1509,\n",
       " 1551,\n",
       " 1723,\n",
       " 1835,\n",
       " 1610,\n",
       " 1820,\n",
       " 1942,\n",
       " 1767,\n",
       " 1549,\n",
       " 1607,\n",
       " 1781,\n",
       " 1612,\n",
       " 1864,\n",
       " 2007,\n",
       " 1908,\n",
       " 1650,\n",
       " 1449,\n",
       " 1886,\n",
       " 1878,\n",
       " 1895,\n",
       " 1869,\n",
       " 1469,\n",
       " 1507]"
      ]
     },
     "execution_count": 6,
     "metadata": {},
     "output_type": "execute_result"
    },
    {
     "data": {
      "application/javascript": [
       "\n",
       "            setTimeout(function() {\n",
       "                var nbb_cell_id = 6;\n",
       "                var nbb_unformatted_code = \"# ...so I can export it as a Python list\\npd.read_csv(\\\"input.txt\\\", header=None)[0].tolist()\";\n",
       "                var nbb_formatted_code = \"# ...so I can export it as a Python list\\npd.read_csv(\\\"input.txt\\\", header=None)[0].tolist()\";\n",
       "                var nbb_cells = Jupyter.notebook.get_cells();\n",
       "                for (var i = 0; i < nbb_cells.length; ++i) {\n",
       "                    if (nbb_cells[i].input_prompt_number == nbb_cell_id) {\n",
       "                        if (nbb_cells[i].get_text() == nbb_unformatted_code) {\n",
       "                             nbb_cells[i].set_text(nbb_formatted_code);\n",
       "                        }\n",
       "                        break;\n",
       "                    }\n",
       "                }\n",
       "            }, 500);\n",
       "            "
      ],
      "text/plain": [
       "<IPython.core.display.Javascript object>"
      ]
     },
     "metadata": {},
     "output_type": "display_data"
    }
   ],
   "source": [
    "# ...so I can export it as a Python list\n",
    "pd.read_csv(\"input.txt\", header=None)[0].tolist()"
   ]
  },
  {
   "cell_type": "code",
   "execution_count": 7,
   "metadata": {},
   "outputs": [
    {
     "data": {
      "application/javascript": [
       "\n",
       "            setTimeout(function() {\n",
       "                var nbb_cell_id = 7;\n",
       "                var nbb_unformatted_code = \"expenses = pd.read_csv(\\\"input.txt\\\", header=None)[0].to_list()\";\n",
       "                var nbb_formatted_code = \"expenses = pd.read_csv(\\\"input.txt\\\", header=None)[0].to_list()\";\n",
       "                var nbb_cells = Jupyter.notebook.get_cells();\n",
       "                for (var i = 0; i < nbb_cells.length; ++i) {\n",
       "                    if (nbb_cells[i].input_prompt_number == nbb_cell_id) {\n",
       "                        if (nbb_cells[i].get_text() == nbb_unformatted_code) {\n",
       "                             nbb_cells[i].set_text(nbb_formatted_code);\n",
       "                        }\n",
       "                        break;\n",
       "                    }\n",
       "                }\n",
       "            }, 500);\n",
       "            "
      ],
      "text/plain": [
       "<IPython.core.display.Javascript object>"
      ]
     },
     "metadata": {},
     "output_type": "display_data"
    }
   ],
   "source": [
    "expenses = pd.read_csv(\"input.txt\", header=None)[0].to_list()"
   ]
  },
  {
   "cell_type": "code",
   "execution_count": 8,
   "metadata": {},
   "outputs": [
    {
     "data": {
      "text/plain": [
       "[1632, 1438, 1811]"
      ]
     },
     "execution_count": 8,
     "metadata": {},
     "output_type": "execute_result"
    },
    {
     "data": {
      "application/javascript": [
       "\n",
       "            setTimeout(function() {\n",
       "                var nbb_cell_id = 8;\n",
       "                var nbb_unformatted_code = \"# First 3 elements\\nexpenses[:3]\";\n",
       "                var nbb_formatted_code = \"# First 3 elements\\nexpenses[:3]\";\n",
       "                var nbb_cells = Jupyter.notebook.get_cells();\n",
       "                for (var i = 0; i < nbb_cells.length; ++i) {\n",
       "                    if (nbb_cells[i].input_prompt_number == nbb_cell_id) {\n",
       "                        if (nbb_cells[i].get_text() == nbb_unformatted_code) {\n",
       "                             nbb_cells[i].set_text(nbb_formatted_code);\n",
       "                        }\n",
       "                        break;\n",
       "                    }\n",
       "                }\n",
       "            }, 500);\n",
       "            "
      ],
      "text/plain": [
       "<IPython.core.display.Javascript object>"
      ]
     },
     "metadata": {},
     "output_type": "display_data"
    }
   ],
   "source": [
    "# First 3 elements\n",
    "expenses[:3]"
   ]
  },
  {
   "cell_type": "markdown",
   "metadata": {},
   "source": [
    "## Day 1 - Part 1\n",
    "> Find the two entries in expenses that sum to 2020 and return their product."
   ]
  },
  {
   "cell_type": "code",
   "execution_count": 9,
   "metadata": {},
   "outputs": [
    {
     "data": {
      "application/javascript": [
       "\n",
       "            setTimeout(function() {\n",
       "                var nbb_cell_id = 9;\n",
       "                var nbb_unformatted_code = \"# For simplicity, we'll start by just looking at the first 3 expenses.\\nfirst_3 = expenses[:3]\";\n",
       "                var nbb_formatted_code = \"# For simplicity, we'll start by just looking at the first 3 expenses.\\nfirst_3 = expenses[:3]\";\n",
       "                var nbb_cells = Jupyter.notebook.get_cells();\n",
       "                for (var i = 0; i < nbb_cells.length; ++i) {\n",
       "                    if (nbb_cells[i].input_prompt_number == nbb_cell_id) {\n",
       "                        if (nbb_cells[i].get_text() == nbb_unformatted_code) {\n",
       "                             nbb_cells[i].set_text(nbb_formatted_code);\n",
       "                        }\n",
       "                        break;\n",
       "                    }\n",
       "                }\n",
       "            }, 500);\n",
       "            "
      ],
      "text/plain": [
       "<IPython.core.display.Javascript object>"
      ]
     },
     "metadata": {},
     "output_type": "display_data"
    }
   ],
   "source": [
    "# For simplicity, we'll start by just looking at the first 3 expenses.\n",
    "first_3 = expenses[:3]"
   ]
  },
  {
   "cell_type": "code",
   "execution_count": 10,
   "metadata": {},
   "outputs": [
    {
     "name": "stdout",
     "output_type": "stream",
     "text": [
      "1.632\n",
      "1.438\n",
      "1.811\n"
     ]
    },
    {
     "data": {
      "application/javascript": [
       "\n",
       "            setTimeout(function() {\n",
       "                var nbb_cell_id = 10;\n",
       "                var nbb_unformatted_code = \"# For loops are OK...\\nfor a in first_3:\\n    print(a / 1000)\";\n",
       "                var nbb_formatted_code = \"# For loops are OK...\\nfor a in first_3:\\n    print(a / 1000)\";\n",
       "                var nbb_cells = Jupyter.notebook.get_cells();\n",
       "                for (var i = 0; i < nbb_cells.length; ++i) {\n",
       "                    if (nbb_cells[i].input_prompt_number == nbb_cell_id) {\n",
       "                        if (nbb_cells[i].get_text() == nbb_unformatted_code) {\n",
       "                             nbb_cells[i].set_text(nbb_formatted_code);\n",
       "                        }\n",
       "                        break;\n",
       "                    }\n",
       "                }\n",
       "            }, 500);\n",
       "            "
      ],
      "text/plain": [
       "<IPython.core.display.Javascript object>"
      ]
     },
     "metadata": {},
     "output_type": "display_data"
    }
   ],
   "source": [
    "# For loops are OK...\n",
    "for a in first_3:\n",
    "    print(a / 1000)"
   ]
  },
  {
   "cell_type": "code",
   "execution_count": 11,
   "metadata": {},
   "outputs": [
    {
     "data": {
      "text/plain": [
       "[1.632, 1.438, 1.811]"
      ]
     },
     "execution_count": 11,
     "metadata": {},
     "output_type": "execute_result"
    },
    {
     "data": {
      "application/javascript": [
       "\n",
       "            setTimeout(function() {\n",
       "                var nbb_cell_id = 11;\n",
       "                var nbb_unformatted_code = \"# ...but list compehensions are great!\\n[a / 1000 for a in first_3]\";\n",
       "                var nbb_formatted_code = \"# ...but list compehensions are great!\\n[a / 1000 for a in first_3]\";\n",
       "                var nbb_cells = Jupyter.notebook.get_cells();\n",
       "                for (var i = 0; i < nbb_cells.length; ++i) {\n",
       "                    if (nbb_cells[i].input_prompt_number == nbb_cell_id) {\n",
       "                        if (nbb_cells[i].get_text() == nbb_unformatted_code) {\n",
       "                             nbb_cells[i].set_text(nbb_formatted_code);\n",
       "                        }\n",
       "                        break;\n",
       "                    }\n",
       "                }\n",
       "            }, 500);\n",
       "            "
      ],
      "text/plain": [
       "<IPython.core.display.Javascript object>"
      ]
     },
     "metadata": {},
     "output_type": "display_data"
    }
   ],
   "source": [
    "# ...but list compehensions are great!\n",
    "[a / 1000 for a in first_3]"
   ]
  },
  {
   "cell_type": "code",
   "execution_count": 12,
   "metadata": {},
   "outputs": [
    {
     "data": {
      "text/plain": [
       "[(1632, 1632),\n",
       " (1632, 1438),\n",
       " (1632, 1811),\n",
       " (1438, 1632),\n",
       " (1438, 1438),\n",
       " (1438, 1811),\n",
       " (1811, 1632),\n",
       " (1811, 1438),\n",
       " (1811, 1811)]"
      ]
     },
     "execution_count": 12,
     "metadata": {},
     "output_type": "execute_result"
    },
    {
     "data": {
      "application/javascript": [
       "\n",
       "            setTimeout(function() {\n",
       "                var nbb_cell_id = 12;\n",
       "                var nbb_unformatted_code = \"# Let's try a double comprehension (!)\\n[(a, b) for a in first_3 for b in first_3]\";\n",
       "                var nbb_formatted_code = \"# Let's try a double comprehension (!)\\n[(a, b) for a in first_3 for b in first_3]\";\n",
       "                var nbb_cells = Jupyter.notebook.get_cells();\n",
       "                for (var i = 0; i < nbb_cells.length; ++i) {\n",
       "                    if (nbb_cells[i].input_prompt_number == nbb_cell_id) {\n",
       "                        if (nbb_cells[i].get_text() == nbb_unformatted_code) {\n",
       "                             nbb_cells[i].set_text(nbb_formatted_code);\n",
       "                        }\n",
       "                        break;\n",
       "                    }\n",
       "                }\n",
       "            }, 500);\n",
       "            "
      ],
      "text/plain": [
       "<IPython.core.display.Javascript object>"
      ]
     },
     "metadata": {},
     "output_type": "display_data"
    }
   ],
   "source": [
    "# Let's try a double comprehension (!)\n",
    "[(a, b) for a in first_3 for b in first_3]"
   ]
  },
  {
   "cell_type": "code",
   "execution_count": 13,
   "metadata": {},
   "outputs": [
    {
     "data": {
      "text/plain": [
       "[(1632, 1632),\n",
       " (1632, 1438),\n",
       " (1632, 1811),\n",
       " (1438, 1438),\n",
       " (1438, 1811),\n",
       " (1811, 1811)]"
      ]
     },
     "execution_count": 13,
     "metadata": {},
     "output_type": "execute_result"
    },
    {
     "data": {
      "application/javascript": [
       "\n",
       "            setTimeout(function() {\n",
       "                var nbb_cell_id = 13;\n",
       "                var nbb_unformatted_code = \"# We can be more efficient by not going over number pairs we already visited\\n[(a, b) for a in first_3 for b in first_3[first_3.index(a) :]]\";\n",
       "                var nbb_formatted_code = \"# We can be more efficient by not going over number pairs we already visited\\n[(a, b) for a in first_3 for b in first_3[first_3.index(a) :]]\";\n",
       "                var nbb_cells = Jupyter.notebook.get_cells();\n",
       "                for (var i = 0; i < nbb_cells.length; ++i) {\n",
       "                    if (nbb_cells[i].input_prompt_number == nbb_cell_id) {\n",
       "                        if (nbb_cells[i].get_text() == nbb_unformatted_code) {\n",
       "                             nbb_cells[i].set_text(nbb_formatted_code);\n",
       "                        }\n",
       "                        break;\n",
       "                    }\n",
       "                }\n",
       "            }, 500);\n",
       "            "
      ],
      "text/plain": [
       "<IPython.core.display.Javascript object>"
      ]
     },
     "metadata": {},
     "output_type": "display_data"
    }
   ],
   "source": [
    "# We can be more efficient by not going over number pairs we already visited\n",
    "[(a, b) for a in first_3 for b in first_3[first_3.index(a) :]]"
   ]
  },
  {
   "cell_type": "code",
   "execution_count": 14,
   "metadata": {},
   "outputs": [
    {
     "name": "stdout",
     "output_type": "stream",
     "text": [
      "expense_number_7=1972\n",
      "position_of_expense_7=7\n"
     ]
    },
    {
     "data": {
      "application/javascript": [
       "\n",
       "            setTimeout(function() {\n",
       "                var nbb_cell_id = 14;\n",
       "                var nbb_unformatted_code = \"# Note how we used .index() method here\\nexpense_number_7 = expenses[7]\\nprint(f\\\"{expense_number_7=}\\\")\\n\\nposition_of_expense_7 = expenses.index(expense_number_7)\\nprint(f\\\"{position_of_expense_7=}\\\")\";\n",
       "                var nbb_formatted_code = \"# Note how we used .index() method here\\nexpense_number_7 = expenses[7]\\nprint(f\\\"{expense_number_7=}\\\")\\n\\nposition_of_expense_7 = expenses.index(expense_number_7)\\nprint(f\\\"{position_of_expense_7=}\\\")\";\n",
       "                var nbb_cells = Jupyter.notebook.get_cells();\n",
       "                for (var i = 0; i < nbb_cells.length; ++i) {\n",
       "                    if (nbb_cells[i].input_prompt_number == nbb_cell_id) {\n",
       "                        if (nbb_cells[i].get_text() == nbb_unformatted_code) {\n",
       "                             nbb_cells[i].set_text(nbb_formatted_code);\n",
       "                        }\n",
       "                        break;\n",
       "                    }\n",
       "                }\n",
       "            }, 500);\n",
       "            "
      ],
      "text/plain": [
       "<IPython.core.display.Javascript object>"
      ]
     },
     "metadata": {},
     "output_type": "display_data"
    }
   ],
   "source": [
    "# Note how we used .index() method here\n",
    "expense_number_7 = expenses[7]\n",
    "print(f\"{expense_number_7=}\")\n",
    "\n",
    "position_of_expense_7 = expenses.index(expense_number_7)\n",
    "print(f\"{position_of_expense_7=}\")"
   ]
  },
  {
   "cell_type": "code",
   "execution_count": 15,
   "metadata": {},
   "outputs": [
    {
     "data": {
      "text/plain": [
       "[(81, 1939)]"
      ]
     },
     "execution_count": 15,
     "metadata": {},
     "output_type": "execute_result"
    },
    {
     "data": {
      "application/javascript": [
       "\n",
       "            setTimeout(function() {\n",
       "                var nbb_cell_id = 15;\n",
       "                var nbb_unformatted_code = \"# Let's now add the if statement...\\n[(a, b) for a in expenses for b in expenses[expenses.index(a) :] if a + b == 2020]\";\n",
       "                var nbb_formatted_code = \"# Let's now add the if statement...\\n[(a, b) for a in expenses for b in expenses[expenses.index(a) :] if a + b == 2020]\";\n",
       "                var nbb_cells = Jupyter.notebook.get_cells();\n",
       "                for (var i = 0; i < nbb_cells.length; ++i) {\n",
       "                    if (nbb_cells[i].input_prompt_number == nbb_cell_id) {\n",
       "                        if (nbb_cells[i].get_text() == nbb_unformatted_code) {\n",
       "                             nbb_cells[i].set_text(nbb_formatted_code);\n",
       "                        }\n",
       "                        break;\n",
       "                    }\n",
       "                }\n",
       "            }, 500);\n",
       "            "
      ],
      "text/plain": [
       "<IPython.core.display.Javascript object>"
      ]
     },
     "metadata": {},
     "output_type": "display_data"
    }
   ],
   "source": [
    "# Let's now add the if statement...\n",
    "[(a, b) for a in expenses for b in expenses[expenses.index(a) :] if a + b == 2020]"
   ]
  },
  {
   "cell_type": "code",
   "execution_count": 16,
   "metadata": {},
   "outputs": [
    {
     "data": {
      "text/plain": [
       "[157059]"
      ]
     },
     "execution_count": 16,
     "metadata": {},
     "output_type": "execute_result"
    },
    {
     "data": {
      "application/javascript": [
       "\n",
       "            setTimeout(function() {\n",
       "                var nbb_cell_id = 16;\n",
       "                var nbb_unformatted_code = \"# ...multiply the results...\\n[a * b for a in expenses for b in expenses[expenses.index(a) :] if a + b == 2020]\";\n",
       "                var nbb_formatted_code = \"# ...multiply the results...\\n[a * b for a in expenses for b in expenses[expenses.index(a) :] if a + b == 2020]\";\n",
       "                var nbb_cells = Jupyter.notebook.get_cells();\n",
       "                for (var i = 0; i < nbb_cells.length; ++i) {\n",
       "                    if (nbb_cells[i].input_prompt_number == nbb_cell_id) {\n",
       "                        if (nbb_cells[i].get_text() == nbb_unformatted_code) {\n",
       "                             nbb_cells[i].set_text(nbb_formatted_code);\n",
       "                        }\n",
       "                        break;\n",
       "                    }\n",
       "                }\n",
       "            }, 500);\n",
       "            "
      ],
      "text/plain": [
       "<IPython.core.display.Javascript object>"
      ]
     },
     "metadata": {},
     "output_type": "display_data"
    }
   ],
   "source": [
    "# ...multiply the results...\n",
    "[a * b for a in expenses for b in expenses[expenses.index(a) :] if a + b == 2020]"
   ]
  },
  {
   "cell_type": "code",
   "execution_count": 17,
   "metadata": {},
   "outputs": [
    {
     "data": {
      "text/plain": [
       "157059"
      ]
     },
     "execution_count": 17,
     "metadata": {},
     "output_type": "execute_result"
    },
    {
     "data": {
      "application/javascript": [
       "\n",
       "            setTimeout(function() {\n",
       "                var nbb_cell_id = 17;\n",
       "                var nbb_unformatted_code = \"# ...and select the first element in the resulting list\\n[a * b for a in expenses for b in expenses[expenses.index(a) :] if a + b == 2020][0]\";\n",
       "                var nbb_formatted_code = \"# ...and select the first element in the resulting list\\n[a * b for a in expenses for b in expenses[expenses.index(a) :] if a + b == 2020][0]\";\n",
       "                var nbb_cells = Jupyter.notebook.get_cells();\n",
       "                for (var i = 0; i < nbb_cells.length; ++i) {\n",
       "                    if (nbb_cells[i].input_prompt_number == nbb_cell_id) {\n",
       "                        if (nbb_cells[i].get_text() == nbb_unformatted_code) {\n",
       "                             nbb_cells[i].set_text(nbb_formatted_code);\n",
       "                        }\n",
       "                        break;\n",
       "                    }\n",
       "                }\n",
       "            }, 500);\n",
       "            "
      ],
      "text/plain": [
       "<IPython.core.display.Javascript object>"
      ]
     },
     "metadata": {},
     "output_type": "display_data"
    }
   ],
   "source": [
    "# ...and select the first element in the resulting list\n",
    "[a * b for a in expenses for b in expenses[expenses.index(a) :] if a + b == 2020][0]"
   ]
  },
  {
   "cell_type": "markdown",
   "metadata": {},
   "source": [
    "# ✅ 🎉"
   ]
  },
  {
   "cell_type": "markdown",
   "metadata": {},
   "source": [
    "## Day 1 - Part 2\n",
    "> Find the three entries in expenses that sum to 2020 and return their product."
   ]
  },
  {
   "cell_type": "code",
   "execution_count": 18,
   "metadata": {},
   "outputs": [
    {
     "data": {
      "text/plain": [
       "[165080960, 165080960, 165080960, 165080960, 165080960, 165080960]"
      ]
     },
     "execution_count": 18,
     "metadata": {},
     "output_type": "execute_result"
    },
    {
     "data": {
      "application/javascript": [
       "\n",
       "            setTimeout(function() {\n",
       "                var nbb_cell_id = 18;\n",
       "                var nbb_unformatted_code = \"# The solution is similar to before...\\n[a * b * c for a in expenses for b in expenses for c in expenses if a + b + c == 2020]\";\n",
       "                var nbb_formatted_code = \"# The solution is similar to before...\\n[a * b * c for a in expenses for b in expenses for c in expenses if a + b + c == 2020]\";\n",
       "                var nbb_cells = Jupyter.notebook.get_cells();\n",
       "                for (var i = 0; i < nbb_cells.length; ++i) {\n",
       "                    if (nbb_cells[i].input_prompt_number == nbb_cell_id) {\n",
       "                        if (nbb_cells[i].get_text() == nbb_unformatted_code) {\n",
       "                             nbb_cells[i].set_text(nbb_formatted_code);\n",
       "                        }\n",
       "                        break;\n",
       "                    }\n",
       "                }\n",
       "            }, 500);\n",
       "            "
      ],
      "text/plain": [
       "<IPython.core.display.Javascript object>"
      ]
     },
     "metadata": {},
     "output_type": "display_data"
    }
   ],
   "source": [
    "# The solution is similar to before...\n",
    "[a * b * c for a in expenses for b in expenses for c in expenses if a + b + c == 2020]"
   ]
  },
  {
   "cell_type": "code",
   "execution_count": 19,
   "metadata": {},
   "outputs": [
    {
     "name": "stdout",
     "output_type": "stream",
     "text": [
      "{'n', ')', 'c', 'r', 'u', 'h', 'a', 'f', 'g', 'i', 'q', 'd', 'l', ' ', 's', 'o', 't', '(', 'e'}\n"
     ]
    },
    {
     "data": {
      "application/javascript": [
       "\n",
       "            setTimeout(function() {\n",
       "                var nbb_cell_id = 19;\n",
       "                var nbb_unformatted_code = \"# ...but we'll use a set to remove duplicates...\\n\\nexample_string = \\\"set() calculates the unique set of letters used in this string\\\"\\nprint(set(example_string))\";\n",
       "                var nbb_formatted_code = \"# ...but we'll use a set to remove duplicates...\\n\\nexample_string = \\\"set() calculates the unique set of letters used in this string\\\"\\nprint(set(example_string))\";\n",
       "                var nbb_cells = Jupyter.notebook.get_cells();\n",
       "                for (var i = 0; i < nbb_cells.length; ++i) {\n",
       "                    if (nbb_cells[i].input_prompt_number == nbb_cell_id) {\n",
       "                        if (nbb_cells[i].get_text() == nbb_unformatted_code) {\n",
       "                             nbb_cells[i].set_text(nbb_formatted_code);\n",
       "                        }\n",
       "                        break;\n",
       "                    }\n",
       "                }\n",
       "            }, 500);\n",
       "            "
      ],
      "text/plain": [
       "<IPython.core.display.Javascript object>"
      ]
     },
     "metadata": {},
     "output_type": "display_data"
    }
   ],
   "source": [
    "# ...but we'll use a set to remove duplicates...\n",
    "\n",
    "example_string = \"set() calculates the unique set of letters used in this string\"\n",
    "print(set(example_string))"
   ]
  },
  {
   "cell_type": "code",
   "execution_count": 20,
   "metadata": {},
   "outputs": [
    {
     "data": {
      "text/plain": [
       "{'e', 'h', 'l', 'o'}"
      ]
     },
     "execution_count": 20,
     "metadata": {},
     "output_type": "execute_result"
    },
    {
     "data": {
      "application/javascript": [
       "\n",
       "            setTimeout(function() {\n",
       "                var nbb_cell_id = 20;\n",
       "                var nbb_unformatted_code = \"# ...specifically, we'll use a set comprehension (!) ...\\n{letter for letter in example_string if letter in \\\"hello\\\"}\";\n",
       "                var nbb_formatted_code = \"# ...specifically, we'll use a set comprehension (!) ...\\n{letter for letter in example_string if letter in \\\"hello\\\"}\";\n",
       "                var nbb_cells = Jupyter.notebook.get_cells();\n",
       "                for (var i = 0; i < nbb_cells.length; ++i) {\n",
       "                    if (nbb_cells[i].input_prompt_number == nbb_cell_id) {\n",
       "                        if (nbb_cells[i].get_text() == nbb_unformatted_code) {\n",
       "                             nbb_cells[i].set_text(nbb_formatted_code);\n",
       "                        }\n",
       "                        break;\n",
       "                    }\n",
       "                }\n",
       "            }, 500);\n",
       "            "
      ],
      "text/plain": [
       "<IPython.core.display.Javascript object>"
      ]
     },
     "metadata": {},
     "output_type": "display_data"
    }
   ],
   "source": [
    "# ...specifically, we'll use a set comprehension (!) ...\n",
    "{letter for letter in example_string if letter in \"hello\"}"
   ]
  },
  {
   "cell_type": "code",
   "execution_count": 21,
   "metadata": {},
   "outputs": [
    {
     "data": {
      "text/plain": [
       "{165080960}"
      ]
     },
     "execution_count": 21,
     "metadata": {},
     "output_type": "execute_result"
    },
    {
     "data": {
      "application/javascript": [
       "\n",
       "            setTimeout(function() {\n",
       "                var nbb_cell_id = 21;\n",
       "                var nbb_unformatted_code = \"# ...almost there...\\n{a * b * c for a in expenses for b in expenses for c in expenses if a + b + c == 2020}\";\n",
       "                var nbb_formatted_code = \"# ...almost there...\\n{a * b * c for a in expenses for b in expenses for c in expenses if a + b + c == 2020}\";\n",
       "                var nbb_cells = Jupyter.notebook.get_cells();\n",
       "                for (var i = 0; i < nbb_cells.length; ++i) {\n",
       "                    if (nbb_cells[i].input_prompt_number == nbb_cell_id) {\n",
       "                        if (nbb_cells[i].get_text() == nbb_unformatted_code) {\n",
       "                             nbb_cells[i].set_text(nbb_formatted_code);\n",
       "                        }\n",
       "                        break;\n",
       "                    }\n",
       "                }\n",
       "            }, 500);\n",
       "            "
      ],
      "text/plain": [
       "<IPython.core.display.Javascript object>"
      ]
     },
     "metadata": {},
     "output_type": "display_data"
    }
   ],
   "source": [
    "# ...almost there...\n",
    "{a * b * c for a in expenses for b in expenses for c in expenses if a + b + c == 2020}"
   ]
  },
  {
   "cell_type": "code",
   "execution_count": 22,
   "metadata": {},
   "outputs": [
    {
     "data": {
      "text/plain": [
       "165080960"
      ]
     },
     "execution_count": 22,
     "metadata": {},
     "output_type": "execute_result"
    },
    {
     "data": {
      "application/javascript": [
       "\n",
       "            setTimeout(function() {\n",
       "                var nbb_cell_id = 22;\n",
       "                var nbb_unformatted_code = \"# ...we just need to .pop() the integer out.\\n{\\n    a * b * c for a in expenses for b in expenses for c in expenses if a + b + c == 2020\\n}.pop()\";\n",
       "                var nbb_formatted_code = \"# ...we just need to .pop() the integer out.\\n{\\n    a * b * c for a in expenses for b in expenses for c in expenses if a + b + c == 2020\\n}.pop()\";\n",
       "                var nbb_cells = Jupyter.notebook.get_cells();\n",
       "                for (var i = 0; i < nbb_cells.length; ++i) {\n",
       "                    if (nbb_cells[i].input_prompt_number == nbb_cell_id) {\n",
       "                        if (nbb_cells[i].get_text() == nbb_unformatted_code) {\n",
       "                             nbb_cells[i].set_text(nbb_formatted_code);\n",
       "                        }\n",
       "                        break;\n",
       "                    }\n",
       "                }\n",
       "            }, 500);\n",
       "            "
      ],
      "text/plain": [
       "<IPython.core.display.Javascript object>"
      ]
     },
     "metadata": {},
     "output_type": "display_data"
    }
   ],
   "source": [
    "# ...we just need to .pop() the integer out.\n",
    "{\n",
    "    a * b * c for a in expenses for b in expenses for c in expenses if a + b + c == 2020\n",
    "}.pop()"
   ]
  },
  {
   "cell_type": "markdown",
   "metadata": {},
   "source": [
    "This is definitely not an optimised solution!"
   ]
  },
  {
   "cell_type": "code",
   "execution_count": 23,
   "metadata": {},
   "outputs": [
    {
     "name": "stdout",
     "output_type": "stream",
     "text": [
      "CPU times: user 2 µs, sys: 0 ns, total: 2 µs\n",
      "Wall time: 5.96 µs\n"
     ]
    },
    {
     "data": {
      "text/plain": [
       "165080960"
      ]
     },
     "execution_count": 23,
     "metadata": {},
     "output_type": "execute_result"
    },
    {
     "data": {
      "application/javascript": [
       "\n",
       "            setTimeout(function() {\n",
       "                var nbb_cell_id = 23;\n",
       "                var nbb_unformatted_code = \"%time\\n{\\n    a * b * c for a in expenses for b in expenses for c in expenses if a + b + c == 2020\\n}.pop()\";\n",
       "                var nbb_formatted_code = \"%time\\n{\\n    a * b * c for a in expenses for b in expenses for c in expenses if a + b + c == 2020\\n}.pop()\";\n",
       "                var nbb_cells = Jupyter.notebook.get_cells();\n",
       "                for (var i = 0; i < nbb_cells.length; ++i) {\n",
       "                    if (nbb_cells[i].input_prompt_number == nbb_cell_id) {\n",
       "                        if (nbb_cells[i].get_text() == nbb_unformatted_code) {\n",
       "                             nbb_cells[i].set_text(nbb_formatted_code);\n",
       "                        }\n",
       "                        break;\n",
       "                    }\n",
       "                }\n",
       "            }, 500);\n",
       "            "
      ],
      "text/plain": [
       "<IPython.core.display.Javascript object>"
      ]
     },
     "metadata": {},
     "output_type": "display_data"
    }
   ],
   "source": [
    "%time\n",
    "{\n",
    "    a * b * c for a in expenses for b in expenses for c in expenses if a + b + c == 2020\n",
    "}.pop()"
   ]
  },
  {
   "cell_type": "markdown",
   "metadata": {},
   "source": [
    "Why not check out some of the other Python solutions listed at https://github.com/Bogdanp/awesome-advent-of-code#python and see for yourself which is the fastest?"
   ]
  },
  {
   "cell_type": "markdown",
   "metadata": {},
   "source": [
    "# ✅ 🎉"
   ]
  },
  {
   "cell_type": "markdown",
   "metadata": {},
   "source": [
    "---"
   ]
  },
  {
   "cell_type": "markdown",
   "metadata": {},
   "source": [
    "<div class=\"alert alert-block alert-success\">\n",
    "<h1>🎊🎄  Congratulations!  🐍🧝‍♂️</h1>\n",
    "\n",
    "<p>\n",
    "    👤 This notebook has been made by <a href=\"https://twitter.com/john_sandall\">@John_Sandall</a>. I run training workshops in Python, data science and data engineering.\n",
    "</p><br/>\n",
    "\n",
    "<p>\n",
    "    🎓 If you are interested in registering for my <strong>paid workshops in Python for data science and engineering</strong>, you can <a href=\"https://coefficient.ai/learn-python\">sign up to our mailing list here</a>.\n",
    "</p><br/>\n",
    "\n",
    "<p>\n",
    "    🎬 You can follow my <a href=\"https://github.com/pydatabristol/workshops/tree/master/workshop_2019_10_28_first_steps\"><em>First Steps with Python</em></a> and <a href=\"https://github.com/pydatabristol/workshops/tree/master/workshop_2020_02_27_first_steps_with_pandas\"><em>First Steps with pandas</em></a> workshops for free as part of <a href=\"https://www.meetup.com/PyData-Bristol/\">PyData Bristol's</a> Zero To Hero workshop series. If you'd like to learn more <strong>Jupyter tips &amp; tricks</strong> you may be interested in my event with Ben Sparks from <a href=\"http://bit.ly/Numberphile_Sub\">Numberphile</a> where we explored simulating viral outbreaks with <strong>SIR models</strong>, <strong>interactive Jupyter Widgets</strong> and <strong>animated matplotlib charts</strong> in <a href=\"https://www.crowdcast.io/e/pydata1/register\"><em>Building An Interactive Coronavirus Model In Jupyter w/ Ben Sparks</em></a>.\n",
    "</p><br/>\n",
    "\n",
    "<p>\n",
    "    💼 I am the Founder of data science consultancy <a href=\"https://coefficient.ai/\">Coefficient</a>. If you would like to work with us, our team can help you with your <a href=\"https://www.youtube.com/watch?v=qBvO3fyl1lk\">data science</a>, <a href=\"https://coefficient.ai/#services-page\">software engineering</a> and <a href=\"https://coefficient.ai/#machine-learning-page\">machine learning</a> projects as an on-demand resource. We can also create <a href=\"https://coefficient.ai/#training-page\">bespoke training workshops</a> adapted to your industry, virtual or in-person, with training clients currently including BNP Paribas, EY, the Met Police and the BBC.\n",
    "</p>\n",
    "\n",
    "</div>"
   ]
  }
 ],
 "metadata": {
  "kernelspec": {
   "display_name": "Python (advent-of-code)",
   "language": "python",
   "name": "advent-of-code"
  },
  "language_info": {
   "codemirror_mode": {
    "name": "ipython",
    "version": 3
   },
   "file_extension": ".py",
   "mimetype": "text/x-python",
   "name": "python",
   "nbconvert_exporter": "python",
   "pygments_lexer": "ipython3",
   "version": "3.8.6"
  }
 },
 "nbformat": 4,
 "nbformat_minor": 4
}
